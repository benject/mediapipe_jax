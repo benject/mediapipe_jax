{
 "cells": [
  {
   "cell_type": "code",
   "execution_count": null,
   "metadata": {},
   "outputs": [],
   "source": [
    "!pip install jax\n",
    "!pip install jaxlib"
   ]
  },
  {
   "cell_type": "code",
   "execution_count": 24,
   "metadata": {
    "colab": {
     "base_uri": "https://localhost:8080/"
    },
    "id": "kceFsXrdEVbw",
    "outputId": "5aa7eff9-c99f-4175-d444-52a09082a0a6"
   },
   "outputs": [
    {
     "name": "stdout",
     "output_type": "stream",
     "text": [
      "<bound method NDFrame.head of       Unnamed: 0                                         image_path  \\\n",
      "0              0  L:\\DL_Dataset\\facescape\\fsmview_trainset\\1\\18_...   \n",
      "1              1  L:\\DL_Dataset\\facescape\\fsmview_trainset\\1\\18_...   \n",
      "2              2  L:\\DL_Dataset\\facescape\\fsmview_trainset\\1\\18_...   \n",
      "3              3  L:\\DL_Dataset\\facescape\\fsmview_trainset\\1\\18_...   \n",
      "4              4  L:\\DL_Dataset\\facescape\\fsmview_trainset\\10\\18...   \n",
      "...          ...                                                ...   \n",
      "2609        2609  L:\\DL_Dataset\\facescape\\fsmview_trainset\\98\\1_...   \n",
      "2610        2610  L:\\DL_Dataset\\facescape\\fsmview_trainset\\99\\1_...   \n",
      "2611        2611  L:\\DL_Dataset\\facescape\\fsmview_trainset\\99\\1_...   \n",
      "2612        2612  L:\\DL_Dataset\\facescape\\fsmview_trainset\\99\\1_...   \n",
      "2613        2613  L:\\DL_Dataset\\facescape\\fsmview_trainset\\99\\1_...   \n",
      "\n",
      "           area  eyeblink  \n",
      "0      0.274263       1.0  \n",
      "1      0.047657       1.0  \n",
      "2      0.049305       1.0  \n",
      "3      0.118204       1.0  \n",
      "4      0.116260       1.0  \n",
      "...         ...       ...  \n",
      "2609  11.337953       0.0  \n",
      "2610  16.731666       0.0  \n",
      "2611  12.009911       0.0  \n",
      "2612  10.380131       0.0  \n",
      "2613  15.280200       0.0  \n",
      "\n",
      "[2614 rows x 4 columns]>\n"
     ]
    }
   ],
   "source": [
    "#!/usr/bin/python\n",
    "# -*- coding: utf-8 -*-\n",
    "\n",
    "\n",
    "import pandas as pd\n",
    "\n",
    "df = pd.read_csv(\"./dataset/featureset.csv\")\n",
    "print(df.head)\n"
   ]
  },
  {
   "cell_type": "code",
   "execution_count": 25,
   "metadata": {
    "colab": {
     "base_uri": "https://localhost:8080/"
    },
    "id": "oLyAH3y1FIyt",
    "outputId": "ea3d769a-e22d-45f4-a4f2-13d030ec6b80"
   },
   "outputs": [
    {
     "name": "stdout",
     "output_type": "stream",
     "text": [
      "4.39 ms ± 299 µs per loop (mean ± std. dev. of 7 runs, 100 loops each)\n",
      "[[-0.07136972]] 0.9274646\n"
     ]
    }
   ],
   "source": [
    "import jax.numpy as jnp\n",
    "\n",
    "from jax import grad \n",
    "\n",
    "x = df.loc[:,\"area\"].to_numpy().reshape((2614,1)) #从dataframe 转为numpy array\n",
    "y = df.loc[:,\"eyeblink\"].to_numpy().reshape((2614,1)) #从dataframe 转为 numpy array\n",
    "\n",
    "w = jnp.zeros((1,1))\n",
    "b = 0.0\n",
    "\n",
    "\n",
    "\n",
    "def forward(w,b,x):\n",
    "\n",
    "  return jnp.dot(x,w) + b\n",
    "\n",
    "\n",
    "def jnp_loss_func(w,b,x,y):\n",
    "\n",
    "  y_hat = forward(w,b,x)\n",
    "\n",
    "  return jnp.mean(jnp.square(y-y_hat))\n",
    "\n",
    "\n",
    "\n",
    "def update(w,b,dw,db,lr): #更新参数 \n",
    "\n",
    "  new_w = w - lr*dw\n",
    "  new_b = b - lr*db\n",
    "\n",
    "  return new_w , new_b\n",
    "\n",
    "\n",
    "grad_w = grad(jnp_loss_func, argnums=0)  #用grad 包裹住实际函数，返回一个callable 对象。然后在调用这个callable对象进行处理。 argnums= 0 意思是对第1个参数w求梯度\n",
    "grad_b = grad(jnp_loss_func, argnums=1)  #用grad 包裹住实际函数，返回一个callable 对象。然后在调用这个callable对象进行处理。 argnums= 1 意思是对第2个参数b求梯度\n",
    "\n",
    "%timeit grad_w(w,b,x,y)\n",
    "\n",
    "\n",
    "\n",
    "for i in range(10000):\n",
    "\n",
    "  loss = jnp_loss_func(w,b,x,y)\n",
    "\n",
    "  dw = grad_w(w,b,x,y)\n",
    "  db = grad_b(w,b,x,y)\n",
    "\n",
    "  w,b = update(w,b,dw,db,lr = 1e-3)\n",
    "\n",
    "\n",
    "\n",
    "print(w,b)\n",
    "\n"
   ]
  },
  {
   "cell_type": "code",
   "execution_count": 26,
   "metadata": {
    "colab": {
     "base_uri": "https://localhost:8080/"
    },
    "id": "vaXHjO-ZnHvO",
    "outputId": "74eed24a-34a5-463e-c369-f2e0cd114724"
   },
   "outputs": [
    {
     "name": "stdout",
     "output_type": "stream",
     "text": [
      "15.6 µs ± 957 ns per loop (mean ± std. dev. of 7 runs, 100000 loops each)\n",
      "15.2 µs ± 94.2 ns per loop (mean ± std. dev. of 7 runs, 100000 loops each)\n",
      "[[-0.07136973]] 0.9274646\n"
     ]
    }
   ],
   "source": [
    "import jax.numpy as jnp\n",
    "\n",
    "from jax import grad ,jit\n",
    "\n",
    "x = df.loc[:,\"area\"].to_numpy().reshape((2614,1)) #从dataframe 转为numpy array\n",
    "y = df.loc[:,\"eyeblink\"].to_numpy().reshape((2614,1)) #从dataframe 转为 numpy array\n",
    "\n",
    "w = jnp.zeros((1,1))\n",
    "b = 0.0\n",
    " \n",
    "\n",
    "def forward(w,b,x):\n",
    "\n",
    "  return jnp.dot(x,w) + b\n",
    "\n",
    "\n",
    "def jnp_loss_func(w,b,x,y): #损失函数写法和pytorch 不一样\n",
    "\n",
    "  y_hat = forward(w,b,x)\n",
    "\n",
    "  return jnp.mean(jnp.square(y-y_hat))\n",
    "\n",
    "\n",
    "def update(w,b,dw,db,lr): #更新参数 \n",
    "\n",
    "  new_w = w - lr*dw\n",
    "  new_b = b - lr*db\n",
    "\n",
    "  return new_w , new_b\n",
    "\n",
    "#用jit 包裹住实际函数，返回一个callable 对象。然后在调用这个callable对象进行处理\n",
    "\n",
    "jit_grad_w = jit(grad(jnp_loss_func, argnums=0))  #用grad 包裹住实际函数，返回一个callable 对象。然后在调用这个callable对象进行处理。 argnums= 0 意思是对第1个参数w求梯度\n",
    "jit_grad_b = jit(grad(jnp_loss_func, argnums=1))  #用grad 包裹住实际函数，返回一个callable 对象。然后在调用这个callable对象进行处理。 argnums= 1 意思是对第2个参数b求梯度\n",
    "\n",
    "%timeit jit_grad_w(w,b,x,y)\n",
    "\n",
    "#另一种用法：jit本身可以看成是一个装饰器。\n",
    "@jit\n",
    "def jit_grad_w_d(w,b,x,y):\n",
    "\n",
    "  dw = grad(jnp_loss_func,argnums=0)\n",
    "  return dw(w,b,x,y)\n",
    "\n",
    "@jit\n",
    "def jit_grad_b_d(w,b,x,y):\n",
    "\n",
    "  db = grad(jnp_loss_func,argnums=1)\n",
    "  return db(w,b,x,y)\n",
    "\n",
    "%timeit jit_grad_w(w,b,x,y)\n",
    "\n",
    "jit_update = jit(update) #用jit 包裹住实际函数，返回一个callable 对象。然后在调用这个callable对象进行处理\n",
    "\n",
    "for i in range(10000):\n",
    "\n",
    "  loss = jnp_loss_func(w,b,x,y)\n",
    "\n",
    "  dw = jit_grad_w(w,b,x,y)\n",
    "  db = jit_grad_b(w,b,x,y)\n",
    "\n",
    "  w,b = jit_update(w,b,dw,db,lr = 1e-3)\n",
    "\n",
    "\n",
    "print(w,b)\n"
   ]
  },
  {
   "cell_type": "code",
   "execution_count": 4,
   "metadata": {
    "colab": {
     "base_uri": "https://localhost:8080/",
     "height": 265
    },
    "id": "GcO5SSPkKRiT",
    "outputId": "a8c3f741-771a-430d-f2bb-dfdd9bd4bed5"
   },
   "outputs": [
    {
     "data": {
      "image/png": "[encoded data removed]",
      "text/plain": [
       "<Figure size 432x288 with 1 Axes>"
      ]
     },
     "metadata": {
      "needs_background": "light"
     },
     "output_type": "display_data"
    }
   ],
   "source": [
    "import matplotlib.pyplot as plt\n",
    "\n",
    "X = df.loc[:,'area'].to_numpy()\n",
    "Y = df.loc[:,'eyeblink'].to_numpy()\n",
    "\n",
    "# draw lines\n",
    "\n",
    "x = jnp.linspace(-5,30, 50)\n",
    "\n",
    "y = w[0,0]*x + b\n",
    "\n",
    "plt.figure()\n",
    "\n",
    "plt.scatter(X,Y)\n",
    "\n",
    "plt.plot(x,y,color = \"red\")\n",
    "\n",
    "plt.show()\n"
   ]
  }
 ],
 "metadata": {
  "colab": {
   "authorship_tag": "ABX9TyOq9yIO2kOgC7OzRI1tf3Sk",
   "collapsed_sections": [],
   "include_colab_link": true,
   "mount_file_id": "1QEZPOU5EcnnmJp7nJQ3Qbn4v_XyS2CyI",
   "name": "jax_linear_regression.ipynb",
   "provenance": []
  },
  "instance_type": "ml.t3.medium",
  "kernelspec": {
   "display_name": "Python 3 (Data Science)",
   "language": "python",
   "name": "python3__SAGEMAKER_INTERNAL__arn:aws:sagemaker:ap-northeast-1:102112518831:image/datascience-1.0"
  },
  "language_info": {
   "codemirror_mode": {
    "name": "ipython",
    "version": 3
   },
   "file_extension": ".py",
   "mimetype": "text/x-python",
   "name": "python",
   "nbconvert_exporter": "python",
   "pygments_lexer": "ipython3",
   "version": "3.7.10"
  }
 },
 "nbformat": 4,
 "nbformat_minor": 4
}
