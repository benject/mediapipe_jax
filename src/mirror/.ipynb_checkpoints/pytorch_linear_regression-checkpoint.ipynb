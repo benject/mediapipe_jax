{
 "cells": [
  {
   "cell_type": "code",
   "execution_count": null,
   "metadata": {
    "colab": {
     "base_uri": "https://localhost:8080/",
     "height": 751
    },
    "id": "Nj_OAz55I35n",
    "outputId": "20c44acc-6e9f-4a94-992f-5ef06652c740"
   },
   "outputs": [],
   "source": [
    "#!/usr/bin/python\n",
    "# -*- coding: utf-8 -*-\n",
    "\n",
    "\n",
    "\n",
    "import pandas as pd\n",
    "import matplotlib.pyplot as plt\n",
    "import numpy as np\n",
    "\n",
    "df = pd.read_csv(\"./dataset/featureset.csv\")\n",
    "print(df.head)\n",
    "\n",
    "\n",
    "X = df.loc[:,'area'].to_numpy()\n",
    "Y = df.loc[:,'eyeblink'].to_numpy()\n",
    "\n",
    "plt.scatter(X,Y)\n",
    "plt.show()\n",
    "\n"
   ]
  },
  {
   "cell_type": "code",
   "execution_count": null,
   "metadata": {
    "id": "6cWfoHIyKv4a"
   },
   "outputs": [],
   "source": [
    "\n",
    "'''pytorch implementation'''\n",
    "\n",
    "import torch \n",
    "\n",
    "import torch.nn as nn\n",
    "\n",
    "class torch_NN(nn.Module):\n",
    "\n",
    "    def __init__(self) -> None:\n",
    "\n",
    "        super(torch_NN,self).__init__()\n",
    "\n",
    "        #begin to design the network\n",
    "        self.fc1 = nn.Linear(1,1)\n",
    "    \n",
    "    def forward(self,x):\n",
    "\n",
    "        x = self.fc1(x)\n",
    "        \n",
    "        return x\n",
    "\n",
    "\n",
    "\n",
    "X = X.reshape(2614,1)\n",
    "Y = Y.reshape(2614,1)\n",
    "\n",
    "net = torch_NN()\n",
    "\n",
    "loss_fun = nn.MSELoss() #损失函数\n",
    "\n",
    "optim_fun = torch.optim.Adam(net.parameters(),lr = 1.0) #梯度下降函数\n",
    "\n",
    "features = torch.from_numpy(X).float()\n",
    "label = torch.from_numpy(Y).float()\n",
    "\n",
    "for i in range(10000):\n",
    "\n",
    "    predict = net(features)\n",
    "\n",
    "    loss = loss_fun(predict,label)\n",
    "\n",
    "    optim_fun.zero_grad()\n",
    "\n",
    "    loss.backward()\n",
    "\n",
    "    optim_fun.step()\n",
    "\n"
   ]
  },
  {
   "cell_type": "code",
   "execution_count": null,
   "metadata": {
    "colab": {
     "base_uri": "https://localhost:8080/",
     "height": 334
    },
    "id": "CREA2jIuKo-d",
    "outputId": "1425289d-767e-47e1-aff6-8b6fb06ef69b"
   },
   "outputs": [],
   "source": [
    "w = 0\n",
    "b = 0\n",
    "\n",
    "\n",
    "for name , value in net.named_parameters():\n",
    "\n",
    "    print(name,value)\n",
    "\n",
    "    if 'weight' in name:\n",
    "        w = value.data\n",
    "    else:\n",
    "        b = value.data\n",
    "\n",
    "X = df.loc[:,'area'].to_numpy()\n",
    "Y = df.loc[:,'eyeblink'].to_numpy()\n",
    "\n",
    "# draw lines\n",
    "\n",
    "x = np.linspace(-5,30, 50)\n",
    "\n",
    "y = w.detach().numpy()[0,0]*x + b.detach().numpy()\n",
    "\n",
    "plt.figure()\n",
    "\n",
    "plt.scatter(X,Y)\n",
    "\n",
    "plt.plot(x,y,color = \"red\")\n",
    "\n",
    "plt.show()\n"
   ]
  }
 ],
 "metadata": {
  "colab": {
   "authorship_tag": "ABX9TyO2cbSigOEy6uDmQy7fipfS",
   "collapsed_sections": [],
   "include_colab_link": true,
   "name": "pytorch_linear_regression.ipynb",
   "provenance": []
  },
  "instance_type": "ml.t3.medium",
  "kernelspec": {
   "display_name": "Python 3 (PyTorch 1.8 Python 3.6 GPU Optimized)",
   "language": "python",
   "name": "python3__SAGEMAKER_INTERNAL__arn:aws:sagemaker:ap-northeast-1:102112518831:image/pytorch-1.8-gpu-py36"
  },
  "language_info": {
   "codemirror_mode": {
    "name": "ipython",
    "version": 3
   },
   "file_extension": ".py",
   "mimetype": "text/x-python",
   "name": "python",
   "nbconvert_exporter": "python",
   "pygments_lexer": "ipython3",
   "version": "3.6.13"
  }
 },
 "nbformat": 4,
 "nbformat_minor": 4
}
