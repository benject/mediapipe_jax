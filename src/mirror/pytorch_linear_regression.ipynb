{
  "nbformat": 4,
  "nbformat_minor": 0,
  "metadata": {
    "colab": {
      "name": "pytorch_linear_regression.ipynb",
      "provenance": [],
      "collapsed_sections": [],
      "authorship_tag": "ABX9TyO2cbSigOEy6uDmQy7fipfS",
      "include_colab_link": true
    },
    "kernelspec": {
      "name": "python3",
      "display_name": "Python 3"
    },
    "language_info": {
      "name": "python"
    }
  },
  "cells": [
    {
      "cell_type": "markdown",
      "metadata": {
        "id": "view-in-github",
        "colab_type": "text"
      },
      "source": [
        "<a href=\"https://colab.research.google.com/github/benject/mediapipe_jax/blob/main/src/mirror/pytorch_linear_regression.ipynb\" target=\"_parent\"><img src=\"https://colab.research.google.com/assets/colab-badge.svg\" alt=\"Open In Colab\"/></a>"
      ]
    },
    {
      "cell_type": "code",
      "execution_count": null,
      "metadata": {
        "colab": {
          "base_uri": "https://localhost:8080/",
          "height": 751
        },
        "id": "Nj_OAz55I35n",
        "outputId": "20c44acc-6e9f-4a94-992f-5ef06652c740"
      },
      "outputs": [
        {
          "output_type": "stream",
          "name": "stdout",
          "text": [
            "Drive already mounted at /content/drive; to attempt to forcibly remount, call drive.mount(\"/content/drive\", force_remount=True).\n",
            "<bound method NDFrame.head of       Unnamed: 0                                         image_path  \\\n",
            "0              0  L:\\DL_Dataset\\facescape\\fsmview_trainset\\1\\18_...   \n",
            "1              1  L:\\DL_Dataset\\facescape\\fsmview_trainset\\1\\18_...   \n",
            "2              2  L:\\DL_Dataset\\facescape\\fsmview_trainset\\1\\18_...   \n",
            "3              3  L:\\DL_Dataset\\facescape\\fsmview_trainset\\1\\18_...   \n",
            "4              4  L:\\DL_Dataset\\facescape\\fsmview_trainset\\10\\18...   \n",
            "...          ...                                                ...   \n",
            "2609        2609  L:\\DL_Dataset\\facescape\\fsmview_trainset\\98\\1_...   \n",
            "2610        2610  L:\\DL_Dataset\\facescape\\fsmview_trainset\\99\\1_...   \n",
            "2611        2611  L:\\DL_Dataset\\facescape\\fsmview_trainset\\99\\1_...   \n",
            "2612        2612  L:\\DL_Dataset\\facescape\\fsmview_trainset\\99\\1_...   \n",
            "2613        2613  L:\\DL_Dataset\\facescape\\fsmview_trainset\\99\\1_...   \n",
            "\n",
            "           area  eyeblink  \n",
            "0      0.274263       1.0  \n",
            "1      0.047657       1.0  \n",
            "2      0.049305       1.0  \n",
            "3      0.118204       1.0  \n",
            "4      0.116260       1.0  \n",
            "...         ...       ...  \n",
            "2609  11.337953       0.0  \n",
            "2610  16.731666       0.0  \n",
            "2611  12.009911       0.0  \n",
            "2612  10.380131       0.0  \n",
            "2613  15.280200       0.0  \n",
            "\n",
            "[2614 rows x 4 columns]>\n"
          ]
        },
        {
          "output_type": "display_data",
          "data": {
            "text/plain": [
              "<Figure size 432x288 with 1 Axes>"
            ],
            "image/png": "[encoded data removed]"
          },
          "metadata": {
            "needs_background": "light"
          }
        }
      ],
      "source": [
        "#!/usr/bin/python\n",
        "# -*- coding: utf-8 -*-\n",
        "\n",
        "\n",
        "from google.colab import drive\n",
        "drive.mount('/content/drive')\n",
        "\n",
        "\n",
        "import pandas as pd\n",
        "import matplotlib.pyplot as plt\n",
        "import numpy as np\n",
        "\n",
        "df = pd.read_csv(\"/content/drive/MyDrive/jax/data/featureset.csv\")\n",
        "print(df.head)\n",
        "\n",
        "\n",
        "X = df.loc[:,'area'].to_numpy()\n",
        "Y = df.loc[:,'eyeblink'].to_numpy()\n",
        "\n",
        "plt.scatter(X,Y)\n",
        "plt.show()\n",
        "\n"
      ]
    },
    {
      "cell_type": "code",
      "source": [
        "\n",
        "'''pytorch implementation'''\n",
        "\n",
        "import torch \n",
        "\n",
        "import torch.nn as nn\n",
        "\n",
        "class torch_NN(nn.Module):\n",
        "\n",
        "    def __init__(self) -> None:\n",
        "\n",
        "        super(torch_NN,self).__init__()\n",
        "\n",
        "        #begin to design the network\n",
        "        self.fc1 = nn.Linear(1,1)\n",
        "    \n",
        "    def forward(self,x):\n",
        "\n",
        "        x = self.fc1(x)\n",
        "        \n",
        "        return x\n",
        "\n",
        "\n",
        "\n",
        "X = X.reshape(2614,1)\n",
        "Y = Y.reshape(2614,1)\n",
        "\n",
        "net = torch_NN()\n",
        "\n",
        "loss_fun = nn.MSELoss() #损失函数\n",
        "\n",
        "optim_fun = torch.optim.Adam(net.parameters(),lr = 1.0) #梯度下降函数\n",
        "\n",
        "features = torch.from_numpy(X).float()\n",
        "label = torch.from_numpy(Y).float()\n",
        "\n",
        "for i in range(10000):\n",
        "\n",
        "    predict = net(features)\n",
        "\n",
        "    loss = loss_fun(predict,label)\n",
        "\n",
        "    optim_fun.zero_grad()\n",
        "\n",
        "    loss.backward()\n",
        "\n",
        "    optim_fun.step()\n",
        "\n"
      ],
      "metadata": {
        "id": "6cWfoHIyKv4a"
      },
      "execution_count": null,
      "outputs": []
    },
    {
      "cell_type": "code",
      "source": [
        "w = 0\n",
        "b = 0\n",
        "\n",
        "\n",
        "for name , value in net.named_parameters():\n",
        "\n",
        "    print(name,value)\n",
        "\n",
        "    if 'weight' in name:\n",
        "        w = value.data\n",
        "    else:\n",
        "        b = value.data\n",
        "\n",
        "X = df.loc[:,'area'].to_numpy()\n",
        "Y = df.loc[:,'eyeblink'].to_numpy()\n",
        "\n",
        "# draw lines\n",
        "\n",
        "x = np.linspace(-5,30, 50)\n",
        "\n",
        "y = w.detach().numpy()[0,0]*x + b.detach().numpy()\n",
        "\n",
        "plt.figure()\n",
        "\n",
        "plt.scatter(X,Y)\n",
        "\n",
        "plt.plot(x,y,color = \"red\")\n",
        "\n",
        "plt.show()\n"
      ],
      "metadata": {
        "colab": {
          "base_uri": "https://localhost:8080/",
          "height": 334
        },
        "id": "CREA2jIuKo-d",
        "outputId": "1425289d-767e-47e1-aff6-8b6fb06ef69b"
      },
      "execution_count": null,
      "outputs": [
        {
          "output_type": "stream",
          "name": "stdout",
          "text": [
            "fc1.weight Parameter containing:\n",
            "tensor([[-0.0714]], requires_grad=True)\n",
            "fc1.bias Parameter containing:\n",
            "tensor([0.9275], requires_grad=True)\n"
          ]
        },
        {
          "output_type": "display_data",
          "data": {
            "text/plain": [
              "<Figure size 432x288 with 1 Axes>"
            ],
            "image/png": "[encoded data removed]"
          },
          "metadata": {
            "needs_background": "light"
          }
        }
      ]
    }
  ]
}